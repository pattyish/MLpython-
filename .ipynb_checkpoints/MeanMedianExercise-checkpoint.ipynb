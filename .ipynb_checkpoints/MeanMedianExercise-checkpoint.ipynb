{
 "cells": [
  {
   "cell_type": "markdown",
   "metadata": {},
   "source": [
    "# Exercise: Mean & Median Customer Spend"
   ]
  },
  {
   "cell_type": "markdown",
   "metadata": {},
   "source": [
    "Here's some code that will generate some random e-commerce data; just an array of total amount spent per transaction. Select the code block, and hit \"play\" to execute it:"
   ]
  },
  {
   "cell_type": "code",
   "execution_count": 1,
   "metadata": {},
   "outputs": [
    {
     "data": {
      "image/png": "[encoded data removed]",
      "text/plain": [
       "<Figure size 432x288 with 1 Axes>"
      ]
     },
     "metadata": {
      "needs_background": "light"
     },
     "output_type": "display_data"
    }
   ],
   "source": [
    "%matplotlib inline\n",
    "import numpy as np\n",
    "import matplotlib.pyplot as plt\n",
    "\n",
    "incomes = np.random.normal(100.0, 20.0, 10000)\n",
    "\n",
    "plt.hist(incomes, 50)\n",
    "plt.show()"
   ]
  },
  {
   "cell_type": "markdown",
   "metadata": {},
   "source": [
    "Now, find the mean and median of this data. In the code block below, write your code, and see if your result makes sense:"
   ]
  },
  {
   "cell_type": "code",
   "execution_count": 2,
   "metadata": {},
   "outputs": [
    {
     "data": {
      "text/plain": [
       "100.01369099122401"
      ]
     },
     "execution_count": 2,
     "metadata": {},
     "output_type": "execute_result"
    }
   ],
   "source": [
    "# Mean \n",
    "np.mean(incomes)"
   ]
  },
  {
   "cell_type": "code",
   "execution_count": 4,
   "metadata": {},
   "outputs": [
    {
     "data": {
      "text/plain": [
       "99.92727070218052"
      ]
     },
     "execution_count": 4,
     "metadata": {},
     "output_type": "execute_result"
    }
   ],
   "source": [
    "# Median \n",
    "np.median(incomes)"
   ]
  },
  {
   "cell_type": "code",
   "execution_count": 5,
   "metadata": {},
   "outputs": [
    {
     "data": {
      "text/plain": [
       "ModeResult(mode=array([29.21341123]), count=array([1]))"
      ]
     },
     "execution_count": 5,
     "metadata": {},
     "output_type": "execute_result"
    }
   ],
   "source": [
    "from scipy import stats\n",
    "stats.mode(incomes)"
   ]
  },
  {
   "cell_type": "markdown",
   "metadata": {},
   "source": [
    "This is pretty much the world's easiest assignment, but we're just trying to get your hands on iPython and writing code with numpy to get you comfortable with it.\n",
    "\n",
    "Try playing with the code above to generate different distributions of data, or add outliers to it to see their effect."
   ]
  },
  {
   "cell_type": "code",
   "execution_count": 14,
   "metadata": {},
   "outputs": [
    {
     "data": {
      "text/plain": [
       "array([4.33410237e-01, 3.82052276e-01, 8.61921650e-01, 4.64399296e-01,\n",
       "       6.70523755e-01, 3.38125962e-01, 9.50362293e-01, 2.68777636e-01,\n",
       "       6.97547092e-01, 9.19089197e-01, 7.93490396e-01, 5.44917776e-01,\n",
       "       6.28569496e-01, 6.27263154e-02, 5.36404760e-01, 8.55523492e-02,\n",
       "       5.90709132e-01, 8.58410452e-01, 3.29970172e-02, 1.06295434e-01,\n",
       "       5.19094536e-01, 3.01116687e-01, 8.30475493e-01, 4.53936635e-02,\n",
       "       6.90853228e-01, 8.57616954e-01, 5.96205995e-01, 2.10289533e-01,\n",
       "       8.87566672e-01, 9.00525158e-01, 2.63346831e-01, 1.31313922e-01,\n",
       "       7.67912536e-01, 3.65561980e-01, 9.52450526e-02, 9.57291746e-01,\n",
       "       7.70849452e-01, 9.24112404e-01, 3.65584511e-01, 9.42828118e-01,\n",
       "       4.32659918e-01, 8.26649284e-01, 2.30285812e-01, 6.22521577e-01,\n",
       "       3.24686742e-01, 5.57365018e-01, 5.25690176e-01, 2.92395570e-01,\n",
       "       8.03437879e-01, 8.57468488e-01, 6.51463113e-01, 2.69568158e-01,\n",
       "       1.79291044e-01, 3.04242288e-01, 7.26720647e-02, 1.11796363e-01,\n",
       "       2.98453503e-01, 3.31302690e-01, 4.87924383e-01, 8.52096354e-01,\n",
       "       2.32437178e-02, 8.20362548e-01, 8.14188099e-02, 5.17524096e-01,\n",
       "       3.24580451e-01, 2.14542700e-01, 4.75212476e-01, 9.52988804e-01,\n",
       "       6.62418366e-01, 1.87714837e-01, 5.92408495e-01, 8.81752185e-01,\n",
       "       7.43341605e-01, 7.54109640e-01, 1.38496472e-01, 9.42787279e-01,\n",
       "       1.78001965e-01, 1.76845477e-02, 3.47203522e-01, 4.66383300e-01,\n",
       "       8.13226663e-01, 4.68223407e-01, 5.81180628e-01, 7.09770541e-02,\n",
       "       3.22422018e-01, 9.46800001e-01, 3.19452042e-01, 7.58786725e-01,\n",
       "       7.33475441e-01, 7.33216510e-01, 3.08362688e-01, 3.86802012e-01,\n",
       "       7.16861415e-01, 2.23040728e-01, 8.37014922e-01, 2.26536813e-02,\n",
       "       7.63612509e-01, 4.79570734e-01, 5.82999485e-01, 2.97513077e-01,\n",
       "       8.74019839e-01, 4.37527773e-01, 8.77828480e-01, 6.29503677e-01,\n",
       "       7.38214835e-01, 1.59346484e-01, 1.18824833e-01, 3.37082005e-01,\n",
       "       4.33615170e-01, 2.90351194e-01, 8.51885778e-01, 6.04485783e-02,\n",
       "       7.25168521e-01, 4.92208577e-01, 4.60769596e-01, 9.79946633e-02,\n",
       "       3.72657590e-01, 3.15286949e-01, 5.81043095e-01, 5.29224872e-01,\n",
       "       7.83077496e-01, 1.08809764e-01, 9.05559579e-01, 3.38316318e-01,\n",
       "       1.30334973e-01, 4.04695560e-01, 6.76040580e-01, 3.38380940e-01,\n",
       "       5.72314816e-01, 6.79169507e-01, 8.12842646e-01, 5.37916724e-01,\n",
       "       9.67995101e-01, 1.15837406e-01, 2.33552494e-01, 6.40649798e-01,\n",
       "       5.33895408e-02, 3.66324536e-01, 8.54939182e-01, 5.23142049e-01,\n",
       "       9.70403469e-01, 1.15856941e-01, 2.93781324e-01, 9.65277244e-01,\n",
       "       9.32183304e-01, 4.98059352e-01, 7.68223456e-01, 3.49555000e-02,\n",
       "       4.32552983e-01, 7.21534137e-01, 3.88277876e-01, 9.36365855e-01,\n",
       "       9.46469724e-02, 1.74114778e-01, 5.48255050e-01, 5.87914208e-01,\n",
       "       5.53633718e-01, 6.69151230e-01, 3.93979585e-01, 2.69365350e-01,\n",
       "       7.08529874e-01, 6.06445249e-01, 3.53113535e-01, 8.27488820e-01,\n",
       "       6.71867672e-01, 6.27601001e-02, 6.45937747e-02, 2.18102445e-01,\n",
       "       9.47286821e-01, 6.77582985e-01, 7.17089041e-01, 8.80582015e-01,\n",
       "       5.19681154e-01, 5.43504007e-01, 3.69143439e-01, 9.98280522e-01,\n",
       "       9.82716626e-02, 7.51502279e-01, 5.89371693e-01, 4.17169436e-02,\n",
       "       7.17887338e-01, 9.93408084e-01, 2.41125312e-02, 7.33190858e-01,\n",
       "       1.37671789e-01, 6.14868245e-01, 5.96003866e-01, 3.95840555e-01,\n",
       "       6.40085099e-01, 2.96020216e-01, 4.14371957e-01, 2.58439732e-01,\n",
       "       3.26006927e-01, 7.56668467e-01, 4.46042807e-01, 2.67270984e-01,\n",
       "       6.13580005e-03, 5.31368966e-01, 9.25189813e-01, 4.50482656e-04])"
      ]
     },
     "execution_count": 14,
     "metadata": {},
     "output_type": "execute_result"
    }
   ],
   "source": [
    "marks = np.random.random_sample(200)\n",
    "marks"
   ]
  },
  {
   "cell_type": "code",
   "execution_count": 15,
   "metadata": {},
   "outputs": [
    {
     "data": {
      "text/plain": [
       "0.49936288688531455"
      ]
     },
     "execution_count": 15,
     "metadata": {},
     "output_type": "execute_result"
    }
   ],
   "source": [
    "np.mean(marks)"
   ]
  },
  {
   "cell_type": "code",
   "execution_count": 16,
   "metadata": {},
   "outputs": [
    {
     "data": {
      "text/plain": [
       "0.5183093160971559"
      ]
     },
     "execution_count": 16,
     "metadata": {},
     "output_type": "execute_result"
    }
   ],
   "source": [
    "np.median(marks)"
   ]
  },
  {
   "cell_type": "code",
   "execution_count": 17,
   "metadata": {},
   "outputs": [
    {
     "data": {
      "text/plain": [
       "ModeResult(mode=array([0.00045048]), count=array([1]))"
      ]
     },
     "execution_count": 17,
     "metadata": {},
     "output_type": "execute_result"
    }
   ],
   "source": [
    "from scipy import stats\n",
    "stats.mode(marks)"
   ]
  },
  {
   "cell_type": "code",
   "execution_count": null,
   "metadata": {},
   "outputs": [],
   "source": []
  }
 ],
 "metadata": {
  "kernelspec": {
   "display_name": "Python 3 (ipykernel)",
   "language": "python",
   "name": "python3"
  },
  "language_info": {
   "codemirror_mode": {
    "name": "ipython",
    "version": 3
   },
   "file_extension": ".py",
   "mimetype": "text/x-python",
   "name": "python",
   "nbconvert_exporter": "python",
   "pygments_lexer": "ipython3",
   "version": "3.8.8"
  }
 },
 "nbformat": 4,
 "nbformat_minor": 1
}
