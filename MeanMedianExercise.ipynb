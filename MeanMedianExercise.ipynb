{
 "cells": [
  {
   "cell_type": "markdown",
   "metadata": {},
   "source": [
    "# Exercise: Mean & Median Customer Spend"
   ]
  },
  {
   "cell_type": "markdown",
   "metadata": {},
   "source": [
    "Here's some code that will generate some random e-commerce data; just an array of total amount spent per transaction. Select the code block, and hit \"play\" to execute it:"
   ]
  },
  {
   "cell_type": "code",
   "execution_count": 18,
   "metadata": {},
   "outputs": [
    {
     "data": {
      "image/png": "[encoded data removed]",
      "text/plain": [
       "<Figure size 432x288 with 1 Axes>"
      ]
     },
     "metadata": {
      "needs_background": "light"
     },
     "output_type": "display_data"
    }
   ],
   "source": [
    "%matplotlib inline\n",
    "import numpy as np\n",
    "import matplotlib.pyplot as plt\n",
    "\n",
    "incomes = np.random.normal(100.0, 20.0, 10000)\n",
    "\n",
    "plt.hist(incomes, 50)\n",
    "plt.show()"
   ]
  },
  {
   "cell_type": "markdown",
   "metadata": {},
   "source": [
    "Now, find the mean and median of this data. In the code block below, write your code, and see if your result makes sense:"
   ]
  },
  {
   "cell_type": "code",
   "execution_count": 19,
   "metadata": {},
   "outputs": [
    {
     "data": {
      "text/plain": [
       "100.57642679494613"
      ]
     },
     "execution_count": 19,
     "metadata": {},
     "output_type": "execute_result"
    }
   ],
   "source": [
    "# Mean \n",
    "np.mean(incomes)"
   ]
  },
  {
   "cell_type": "code",
   "execution_count": 20,
   "metadata": {},
   "outputs": [
    {
     "data": {
      "text/plain": [
       "100.43712204509023"
      ]
     },
     "execution_count": 20,
     "metadata": {},
     "output_type": "execute_result"
    }
   ],
   "source": [
    "# Median \n",
    "np.median(incomes)"
   ]
  },
  {
   "cell_type": "code",
   "execution_count": 21,
   "metadata": {},
   "outputs": [
    {
     "data": {
      "text/plain": [
       "ModeResult(mode=array([18.75301635]), count=array([1]))"
      ]
     },
     "execution_count": 21,
     "metadata": {},
     "output_type": "execute_result"
    }
   ],
   "source": [
    "from scipy import stats\n",
    "stats.mode(incomes)"
   ]
  },
  {
   "cell_type": "markdown",
   "metadata": {},
   "source": [
    "This is pretty much the world's easiest assignment, but we're just trying to get your hands on iPython and writing code with numpy to get you comfortable with it.\n",
    "\n",
    "Try playing with the code above to generate different distributions of data, or add outliers to it to see their effect."
   ]
  },
  {
   "cell_type": "code",
   "execution_count": 22,
   "metadata": {},
   "outputs": [
    {
     "data": {
      "text/plain": [
       "array([0.96350611, 0.82051608, 0.84035367, 0.05590196, 0.49180532,\n",
       "       0.56210728, 0.05597209, 0.0532021 , 0.03408731, 0.05869743,\n",
       "       0.61775637, 0.98500113, 0.8427214 , 0.52052633, 0.94287446,\n",
       "       0.86248272, 0.78064612, 0.5705425 , 0.71271265, 0.5715067 ,\n",
       "       0.23912407, 0.47024154, 0.8365776 , 0.15452449, 0.81264535,\n",
       "       0.23553535, 0.62761175, 0.62132926, 0.47165299, 0.19085106,\n",
       "       0.14641912, 0.50493284, 0.7778706 , 0.48526061, 0.07352581,\n",
       "       0.76842768, 0.62357211, 0.88558162, 0.79191584, 0.26136673,\n",
       "       0.05775462, 0.98349549, 0.35569548, 0.07272331, 0.48772633,\n",
       "       0.26356664, 0.11385398, 0.54891375, 0.98333256, 0.32176888,\n",
       "       0.85265769, 0.89621376, 0.35452842, 0.98051808, 0.23589404,\n",
       "       0.70238782, 0.7064041 , 0.36066494, 0.20184768, 0.12649646,\n",
       "       0.96147472, 0.78418329, 0.54187683, 0.24655573, 0.438513  ,\n",
       "       0.80453025, 0.95213943, 0.3796912 , 0.04142019, 0.40737702,\n",
       "       0.12171493, 0.56068759, 0.57729441, 0.79116564, 0.25557217,\n",
       "       0.91345405, 0.57041137, 0.28293489, 0.75261185, 0.97572535,\n",
       "       0.98072286, 0.90401953, 0.80603016, 0.62101868, 0.60190293,\n",
       "       0.02260567, 0.72481503, 0.46740295, 0.94532934, 0.44959609,\n",
       "       0.8937023 , 0.33872343, 0.56041473, 0.60138391, 0.24689755,\n",
       "       0.31254069, 0.94374511, 0.70054048, 0.28366187, 0.37708964,\n",
       "       0.00260003, 0.96917671, 0.98634799, 0.27123454, 0.65323874,\n",
       "       0.82861429, 0.2714389 , 0.36610785, 0.35601095, 0.74396787,\n",
       "       0.71348846, 0.10953046, 0.12531762, 0.56798534, 0.46619927,\n",
       "       0.22659777, 0.70334161, 0.82953098, 0.40964228, 0.6131824 ,\n",
       "       0.88109876, 0.87636723, 0.08822554, 0.76739451, 0.17939521,\n",
       "       0.87732119, 0.15404798, 0.90430812, 0.42426499, 0.77418873,\n",
       "       0.16051347, 0.99582774, 0.82965579, 0.31354393, 0.51730712,\n",
       "       0.12297021, 0.61361069, 0.44805503, 0.20514122, 0.05080742,\n",
       "       0.01989904, 0.19775744, 0.26145208, 0.00198832, 0.63022586,\n",
       "       0.67174166, 0.69102272, 0.76235068, 0.54415393, 0.84372118,\n",
       "       0.640913  , 0.08028614, 0.14548636, 0.05228934, 0.05892294,\n",
       "       0.60389373, 0.65737039, 0.89896776, 0.14748452, 0.90765154,\n",
       "       0.66728236, 0.5677534 , 0.13772941, 0.49089881, 0.91961351,\n",
       "       0.71717219, 0.87053081, 0.47472454, 0.35436366, 0.27747376,\n",
       "       0.10827305, 0.64164086, 0.14425088, 0.72365266, 0.44844344,\n",
       "       0.26083893, 0.78325606, 0.76486176, 0.2554358 , 0.43753631,\n",
       "       0.08913758, 0.4147451 , 0.96977422, 0.72549382, 0.95175823,\n",
       "       0.6275152 , 0.44165437, 0.62875305, 0.29759405, 0.78652212,\n",
       "       0.482044  , 0.56157944, 0.14838175, 0.47146157, 0.74456534,\n",
       "       0.53532613, 0.65575632, 0.49564023, 0.9476133 , 0.93206122])"
      ]
     },
     "execution_count": 22,
     "metadata": {},
     "output_type": "execute_result"
    }
   ],
   "source": [
    "marks = np.random.random_sample(200)\n",
    "marks"
   ]
  },
  {
   "cell_type": "code",
   "execution_count": 23,
   "metadata": {},
   "outputs": [
    {
     "data": {
      "text/plain": [
       "0.5261904693070616"
      ]
     },
     "execution_count": 23,
     "metadata": {},
     "output_type": "execute_result"
    }
   ],
   "source": [
    "np.mean(marks)"
   ]
  },
  {
   "cell_type": "code",
   "execution_count": 24,
   "metadata": {},
   "outputs": [
    {
     "data": {
      "text/plain": [
       "0.560551161583524"
      ]
     },
     "execution_count": 24,
     "metadata": {},
     "output_type": "execute_result"
    }
   ],
   "source": [
    "np.median(marks)"
   ]
  },
  {
   "cell_type": "code",
   "execution_count": 25,
   "metadata": {},
   "outputs": [
    {
     "data": {
      "text/plain": [
       "ModeResult(mode=array([0.00198832]), count=array([1]))"
      ]
     },
     "execution_count": 25,
     "metadata": {},
     "output_type": "execute_result"
    }
   ],
   "source": [
    "from scipy import stats\n",
    "stats.mode(marks)"
   ]
  },
  {
   "cell_type": "code",
   "execution_count": null,
   "metadata": {},
   "outputs": [],
   "source": []
  }
 ],
 "metadata": {
  "kernelspec": {
   "display_name": "Python 3 (ipykernel)",
   "language": "python",
   "name": "python3"
  },
  "language_info": {
   "codemirror_mode": {
    "name": "ipython",
    "version": 3
   },
   "file_extension": ".py",
   "mimetype": "text/x-python",
   "name": "python",
   "nbconvert_exporter": "python",
   "pygments_lexer": "ipython3",
   "version": "3.8.8"
  }
 },
 "nbformat": 4,
 "nbformat_minor": 1
}
